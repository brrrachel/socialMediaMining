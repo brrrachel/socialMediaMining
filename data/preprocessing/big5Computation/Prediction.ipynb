{
 "cells": [
  {
   "cell_type": "code",
   "execution_count": 1,
   "metadata": {},
   "outputs": [
    {
     "data": {
      "text/html": [
       "        <script type=\"text/javascript\">\n",
       "        window.PlotlyConfig = {MathJaxConfig: 'local'};\n",
       "        if (window.MathJax) {MathJax.Hub.Config({SVG: {font: \"STIX-Web\"}});}\n",
       "        if (typeof require !== 'undefined') {\n",
       "        require.undef(\"plotly\");\n",
       "        requirejs.config({\n",
       "            paths: {\n",
       "                'plotly': ['https://cdn.plot.ly/plotly-latest.min']\n",
       "            }\n",
       "        });\n",
       "        require(['plotly'], function(Plotly) {\n",
       "            window._Plotly = Plotly;\n",
       "        });\n",
       "        }\n",
       "        </script>\n",
       "        "
      ]
     },
     "metadata": {},
     "output_type": "display_data"
    },
    {
     "data": {
      "text/html": [
       "<script>var waitForPlotly = setInterval( function() {if( typeof(window.Plotly) !== \"undefined\" ){MathJax.Hub.Config({ SVG: { font: \"STIX-Web\" }, displayAlign: \"center\" });MathJax.Hub.Queue([\"setRenderer\", MathJax.Hub, \"SVG\"]);clearInterval(waitForPlotly);}}, 250 );</script>"
      ],
      "text/plain": [
       "<IPython.core.display.HTML object>"
      ]
     },
     "metadata": {},
     "output_type": "display_data"
    }
   ],
   "source": [
    "# import plotly components for offline display of diagrams\n",
    "from IPython.display import display, HTML\n",
    "import plotly.offline as offline\n",
    "from plotly.graph_objs import *\n",
    "\n",
    "\n",
    "# enable latex-mathsymbols in plotly\n",
    "offline.init_notebook_mode(connected=True)\n",
    "\n",
    "# The polling here is to ensure that plotly.js has already been loaded before\n",
    "# setting display alignment in order to avoid a race condition.\n",
    "display(HTML(\n",
    "    '<script>'\n",
    "        'var waitForPlotly = setInterval( function() {'\n",
    "            'if( typeof(window.Plotly) !== \"undefined\" ){'\n",
    "                'MathJax.Hub.Config({ SVG: { font: \"STIX-Web\" }, displayAlign: \"center\" });'\n",
    "                'MathJax.Hub.Queue([\"setRenderer\", MathJax.Hub, \"SVG\"]);'\n",
    "                'clearInterval(waitForPlotly);'\n",
    "            '}}, 250 );'\n",
    "    '</script>'\n",
    "))\n",
    "\n",
    "import pandas as pd\n",
    "from selected_features_boosting import selected_features_boosting\n",
    "from sklearn.externals import joblib\n",
    "\n",
    "TRAITS = ['agr', 'con', 'ext', 'neu', 'ope']"
   ]
  },
  {
   "cell_type": "markdown",
   "metadata": {},
   "source": [
    "# Predicting brand personalities\n",
    "\n",
    "Using the crawled brand posts, we calculated LIWC features. Now we can perform personality prediction (big5 traits) using our best predictor.\n",
    "\n",
    "## Keyfigures of the crawled data"
   ]
  },
  {
   "cell_type": "code",
   "execution_count": 2,
   "metadata": {},
   "outputs": [],
   "source": [
    "df = pd.read_csv('preprocessed_big5.csv', encoding=\"UTF-8\", index_col=0)\n",
    "keyfigures = df[['WC','Analytic','Clout','Authentic','Tone','WPS', 'Sixltr', 'Dic', 'function.', 'pronoun', 'ppron', 'i', 'we', 'you', 'shehe', 'they', 'ipron', 'article', 'prep', 'auxverb', 'adverb', 'conj', 'negate', 'verb', 'adj', 'compare', 'interrog', 'number', 'quant', 'affect', 'posemo', 'negemo', 'anx', 'anger', 'sad', 'social', 'family', 'friend', 'female', 'male', 'cogproc', 'insight', 'cause', 'discrep', 'tentat', 'certain', 'differ', 'percept', 'see', 'hear', 'feel', 'bio', 'body', 'health', 'sexual', 'ingest', 'drives', 'affiliation', 'achieve', 'power', 'reward', 'risk', 'focuspast', 'focuspresent', 'focusfuture', 'relativ', 'motion', 'space', 'time', 'work', 'leisure', 'home', 'money', 'relig', 'death', 'informal', 'swear', 'netspeak', 'assent', 'nonflu', 'filler', 'AllPunc', 'Period', 'Comma', 'Colon', 'SemiC', 'QMark', 'Exclam', 'Dash', 'Quote', 'Apostro', 'Parenth', 'OtherP']]\n",
    "prediction_data = df[(df['Segment'] > 0)].reset_index()"
   ]
  },
  {
   "cell_type": "markdown",
   "metadata": {},
   "source": [
    "Using the selected features from [Validation of selected features](https://hub.benedikt1992.de:8000/notebooks/Validation%20of%20Selected%20Features.ipynb) we can now predict the brands personality using different models:\n",
    "\n",
    "- SVM (SVR)\n",
    "- Decission Tree (Gradient Boosting)\n",
    "- Neural Network"
   ]
  },
  {
   "cell_type": "markdown",
   "metadata": {},
   "source": [
    "## SVM:"
   ]
  },
  {
   "cell_type": "code",
   "execution_count": 6,
   "metadata": {
    "pycharm": {
     "name": "#%%\n"
    }
   },
   "outputs": [
    {
     "name": "stderr",
     "output_type": "stream",
     "text": [
      "/usr/local/lib/python3.7/site-packages/sklearn/base.py:253: UserWarning:\n",
      "\n",
      "Trying to unpickle estimator StandardScaler from version 0.19.1 when using version 0.20.3. This might lead to breaking code or invalid results. Use at your own risk.\n",
      "\n",
      "/usr/local/lib/python3.7/site-packages/ipykernel_launcher.py:13: DataConversionWarning:\n",
      "\n",
      "Data with input dtype int64, float64 were all converted to float64 by StandardScaler.\n",
      "\n",
      "/usr/local/lib/python3.7/site-packages/sklearn/base.py:253: UserWarning:\n",
      "\n",
      "Trying to unpickle estimator SVR from version 0.19.1 when using version 0.20.3. This might lead to breaking code or invalid results. Use at your own risk.\n",
      "\n"
     ]
    },
    {
     "name": "stdout",
     "output_type": "stream",
     "text": [
      "Analytic Tone WPS Sixltr Dic function. they ipron article negate number negemo anger family female male bio sexual ingest affiliation power focuspast relativ motion time home money relig death swear Period Colon QMark Exclam Apostro\n"
     ]
    },
    {
     "name": "stderr",
     "output_type": "stream",
     "text": [
      "/usr/local/lib/python3.7/site-packages/sklearn/base.py:253: UserWarning:\n",
      "\n",
      "Trying to unpickle estimator SVR from version 0.19.1 when using version 0.20.3. This might lead to breaking code or invalid results. Use at your own risk.\n",
      "\n"
     ]
    },
    {
     "name": "stdout",
     "output_type": "stream",
     "text": [
      "Tone WPS Sixltr Dic function. i we they ipron article prep adverb conj quant negemo anger family tentat hear sexual drives relativ motion time work leisure money death informal swear assent AllPunc Period Comma Colon QMark Exclam OtherP\n"
     ]
    },
    {
     "name": "stderr",
     "output_type": "stream",
     "text": [
      "/usr/local/lib/python3.7/site-packages/sklearn/base.py:253: UserWarning:\n",
      "\n",
      "Trying to unpickle estimator SVR from version 0.19.1 when using version 0.20.3. This might lead to breaking code or invalid results. Use at your own risk.\n",
      "\n"
     ]
    },
    {
     "name": "stdout",
     "output_type": "stream",
     "text": [
      "Clout Tone WPS Sixltr function. we they adverb conj negemo sad social family friend female discrep tentat certain bio sexual drives affiliation focuspast focusfuture motion space work leisure home death informal netspeak nonflu AllPunc Period Comma Colon Exclam Apostro Parenth OtherP\n"
     ]
    },
    {
     "name": "stderr",
     "output_type": "stream",
     "text": [
      "/usr/local/lib/python3.7/site-packages/sklearn/base.py:253: UserWarning:\n",
      "\n",
      "Trying to unpickle estimator SVR from version 0.19.1 when using version 0.20.3. This might lead to breaking code or invalid results. Use at your own risk.\n",
      "\n"
     ]
    },
    {
     "name": "stdout",
     "output_type": "stream",
     "text": [
      "Clout Tone WPS Sixltr you shehe ipron article verb compare interrog number negemo anx sad family female male discrep see health ingest drives reward focusfuture motion space leisure home death informal swear assent Period QMark Exclam Apostro OtherP\n"
     ]
    },
    {
     "name": "stderr",
     "output_type": "stream",
     "text": [
      "/usr/local/lib/python3.7/site-packages/sklearn/base.py:253: UserWarning:\n",
      "\n",
      "Trying to unpickle estimator SVR from version 0.19.1 when using version 0.20.3. This might lead to breaking code or invalid results. Use at your own risk.\n",
      "\n"
     ]
    },
    {
     "name": "stdout",
     "output_type": "stream",
     "text": [
      "Clout Tone WPS Sixltr Dic i you article conj negate number negemo sad social family insight certain sexual drives power reward focuspast focuspresent focusfuture space time home relig death informal netspeak assent AllPunc Period Comma QMark Exclam Apostro OtherP\n",
      "      Index  AccountID  PartyID  year  quarter       agr       con       ext  \\\n",
      "0         0         10        3  2009        1  3.495984  3.778752  3.326412   \n",
      "1         1         10        3  2009        2  3.460864  3.550169  3.423918   \n",
      "2         2         10        3  2009        3  3.485042  3.653572  3.444237   \n",
      "3         3         10        3  2009        4  3.464628  3.577998  3.359501   \n",
      "4         4         10        3  2010        1  3.505169  3.699309  3.437948   \n",
      "5         5         10        3  2010        2  3.504753  3.493131  3.323795   \n",
      "6         6         10        3  2010        3  3.401656  3.398983  3.047418   \n",
      "7         7         10        3  2011        1  3.386236  3.459259  3.327633   \n",
      "8         8         10        3  2011        3  3.306589  3.408354  3.261047   \n",
      "9         9         10        3  2011        4  3.537676  3.517941  3.311753   \n",
      "10       10         10        3  2012        1  3.361206  3.603246  3.427375   \n",
      "11       11         10        3  2012        2  3.440703  3.739556  3.495162   \n",
      "12       12         10        3  2012        3  3.444862  3.550399  3.332687   \n",
      "13       13         10        3  2012        4  3.449302  3.532816  3.372615   \n",
      "14       14         10        3  2013        1  3.399540  3.732982  3.341073   \n",
      "15       15         10        3  2013        2  3.488755  3.601627  3.425397   \n",
      "16       16         10        3  2013        3  3.475648  3.698247  3.443975   \n",
      "17       17         10        3  2013        4  3.508031  3.764064  3.515802   \n",
      "18       18         10        3  2014        1  3.441484  3.671206  3.400578   \n",
      "19       19         10        3  2014        2  3.426417  3.607356  3.456484   \n",
      "20       20         10        3  2014        3  3.358374  3.527047  3.486382   \n",
      "21       21         10        3  2014        4  3.373901  3.426242  3.364034   \n",
      "22       22         10        3  2015        1  3.436357  3.572976  3.436864   \n",
      "23       23         10        3  2015        2  3.511531  3.585307  3.456908   \n",
      "24       24         10        3  2015        3  3.410994  3.558824  3.423506   \n",
      "25       25         10        3  2015        4  3.359274  3.527255  3.437529   \n",
      "26       26         10        3  2016        1  3.315166  3.418305  3.314446   \n",
      "27       27         10        3  2016        2  3.347702  3.445943  3.365695   \n",
      "28       28         10        3  2016        3  3.263993  3.361005  3.330154   \n",
      "29       29         10        3  2016        4  3.329414  3.643464  3.389983   \n",
      "...     ...        ...      ...   ...      ...       ...       ...       ...   \n",
      "1028   1028          9        2  2012        3  3.367403  3.492932  3.331200   \n",
      "1029   1029          9        2  2012        4  3.447156  3.518900  3.484312   \n",
      "1030   1030          9        2  2013        1  3.413479  3.559914  3.504402   \n",
      "1031   1031          9        2  2013        2  3.456338  3.536381  3.476396   \n",
      "1032   1032          9        2  2013        3  3.491836  3.560640  3.522823   \n",
      "1033   1033          9        2  2013        4  3.539006  3.532636  3.531938   \n",
      "1034   1034          9        2  2014        1  3.521513  3.584008  3.528262   \n",
      "1035   1035          9        2  2014        2  3.482751  3.558990  3.569605   \n",
      "1036   1036          9        2  2014        3  3.456108  3.557360  3.508315   \n",
      "1037   1037          9        2  2014        4  3.430113  3.617078  3.495115   \n",
      "1038   1038          9        2  2015        1  3.395031  3.586284  3.517856   \n",
      "1039   1039          9        2  2015        2  3.451930  3.582632  3.522893   \n",
      "1040   1040          9        2  2015        3  3.403872  3.511055  3.451378   \n",
      "1041   1041          9        2  2015        4  3.418153  3.558217  3.536239   \n",
      "1042   1042          9        2  2016        1  3.317856  3.475760  3.452943   \n",
      "1043   1043          9        2  2016        2  3.469440  3.538144  3.563745   \n",
      "1044   1044          9        2  2016        3  3.393310  3.458474  3.539731   \n",
      "1045   1045          9        2  2016        4  3.508959  3.502275  3.566657   \n",
      "1046   1046          9        2  2017        1  3.532995  3.575807  3.605166   \n",
      "1047   1047          9        2  2017        2  3.502703  3.568997  3.591253   \n",
      "1048   1048          9        2  2017        3  3.506152  3.581063  3.620375   \n",
      "1049   1049          9        2  2017        4  3.583095  3.666540  3.657897   \n",
      "1050   1050          9        2  2018        1  3.617612  3.657458  3.650809   \n",
      "1051   1051          9        2  2018        2  3.604124  3.618609  3.673001   \n",
      "1052   1052          9        2  2018        3  3.510344  3.507434  3.584658   \n",
      "1053   1053          9        2  2018        4  3.453418  3.435129  3.499973   \n",
      "1054   1054          9        2  2019        1  3.437313  3.527153  3.454753   \n",
      "1055   1055          9        2  2019        2  3.461185  3.574424  3.500566   \n",
      "1056   1056          9        2  2019        3  3.545557  3.537274  3.599476   \n",
      "1057   1057          9        2  2019        4  3.553300  3.544459  3.582438   \n",
      "\n",
      "           neu       ope  \n",
      "0     2.527660  3.725815  \n",
      "1     2.536627  3.921517  \n",
      "2     2.496323  4.010732  \n",
      "3     2.599204  4.101063  \n",
      "4     2.531245  4.125011  \n",
      "5     2.589276  4.011247  \n",
      "6     2.862845  3.864737  \n",
      "7     2.751688  3.952383  \n",
      "8     2.874855  4.006776  \n",
      "9     2.639502  3.837335  \n",
      "10    2.541346  4.207174  \n",
      "11    2.528920  4.160353  \n",
      "12    2.609524  4.033481  \n",
      "13    2.626931  3.680745  \n",
      "14    2.495905  4.046080  \n",
      "15    2.591733  3.944987  \n",
      "16    2.477478  4.165695  \n",
      "17    2.520269  4.149820  \n",
      "18    2.474849  4.131751  \n",
      "19    2.547132  3.971795  \n",
      "20    2.575869  4.063695  \n",
      "21    2.650480  3.943322  \n",
      "22    2.666896  3.987986  \n",
      "23    2.601077  3.940580  \n",
      "24    2.656059  3.882632  \n",
      "25    2.691806  3.966597  \n",
      "26    2.718907  3.758466  \n",
      "27    2.756635  3.713570  \n",
      "28    2.790085  3.733092  \n",
      "29    2.685115  4.073329  \n",
      "...        ...       ...  \n",
      "1028  2.650428  4.097785  \n",
      "1029  2.647798  4.023862  \n",
      "1030  2.621678  4.083160  \n",
      "1031  2.613992  4.022459  \n",
      "1032  2.663274  3.973657  \n",
      "1033  2.588921  4.065147  \n",
      "1034  2.559075  4.027272  \n",
      "1035  2.672347  4.015663  \n",
      "1036  2.647840  4.068776  \n",
      "1037  2.641209  4.101753  \n",
      "1038  2.679651  4.036699  \n",
      "1039  2.645600  4.021861  \n",
      "1040  2.703442  4.043601  \n",
      "1041  2.639961  4.012301  \n",
      "1042  2.746933  4.003810  \n",
      "1043  2.691661  3.834479  \n",
      "1044  2.730844  3.947629  \n",
      "1045  2.675071  3.863556  \n",
      "1046  2.669836  3.822408  \n",
      "1047  2.666391  3.851818  \n",
      "1048  2.651363  3.927417  \n",
      "1049  2.595472  3.941937  \n",
      "1050  2.608645  3.886288  \n",
      "1051  2.639223  3.885984  \n",
      "1052  2.624091  3.919712  \n",
      "1053  2.710648  4.085015  \n",
      "1054  2.603934  4.028489  \n",
      "1055  2.587613  4.023467  \n",
      "1056  2.544904  3.905460  \n",
      "1057  2.613487  3.836192  \n",
      "\n",
      "[1058 rows x 10 columns]\n"
     ]
    }
   ],
   "source": [
    "from cv_svr import RAND_SEED\n",
    "svr_prediction = pd.DataFrame(columns=['Index', 'AccountID', 'PartyID', 'year', 'quarter', *TRAITS], index=range(0, len(prediction_data)))\n",
    "svr_prediction['Index'] = prediction_data['Index']\n",
    "svr_prediction['AccountID'] = prediction_data['AccountID']\n",
    "svr_prediction['PartyID'] = prediction_data['PartyID']\n",
    "svr_prediction['year'] = prediction_data['year']\n",
    "svr_prediction['quarter'] = prediction_data['quarter']\n",
    "prediction_data = prediction_data.drop(['AccountID', 'PartyID', 'year', 'quarter', 'Segment'], axis=1)\n",
    "\n",
    "# scale features\n",
    "scaler = joblib.load(\"cv/scaler.model\")\n",
    "X_predict = prediction_data.drop(['Index'], axis=1)\n",
    "X_predict = scaler.transform(X_predict)\n",
    "X_predict = pd.DataFrame(X_predict, columns = prediction_data.columns[1:]) # features columns without the brand name\n",
    "    \n",
    "for trait in TRAITS:\n",
    "    name = trait + \"_\" + trait + \"_\" + str(RAND_SEED)\n",
    "    model_name = \"cv/boosted/univariate_svr_rbf_\" + name + \".model\"\n",
    "    clf = joblib.load(model_name)\n",
    "    \n",
    "    # perform prediction based on selected features\n",
    "    print(*selected_features_boosting[trait])\n",
    "    svr_prediction[trait] = clf.predict(X_predict[[*selected_features_boosting[trait]]])\n",
    "\n",
    "print(svr_prediction)\n",
    "file_name = './five-factor-values.csv'\n",
    "svr_prediction.to_csv(file_name, sep=',', encoding='utf-8', index=False, header=False)\n",
    "file_name = '../../../setup/querys/five-factor-values.csv'\n",
    "svr_prediction.to_csv(file_name, sep=',', encoding='utf-8', index=False, header=False)"
   ]
  },
  {
   "cell_type": "code",
   "execution_count": null,
   "metadata": {},
   "outputs": [],
   "source": []
  }
 ],
 "metadata": {
  "kernelspec": {
   "display_name": "Python 3",
   "language": "python",
   "name": "python3"
  },
  "language_info": {
   "codemirror_mode": {
    "name": "ipython",
    "version": 3
   },
   "file_extension": ".py",
   "mimetype": "text/x-python",
   "name": "python",
   "nbconvert_exporter": "python",
   "pygments_lexer": "ipython3",
   "version": "3.7.6"
  },
  "pycharm": {
   "stem_cell": {
    "cell_type": "raw",
    "metadata": {
     "collapsed": false
    },
    "source": []
   }
  }
 },
 "nbformat": 4,
 "nbformat_minor": 2
}
